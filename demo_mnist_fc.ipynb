{
 "cells": [
  {
   "cell_type": "code",
   "execution_count": 1,
   "metadata": {},
   "outputs": [],
   "source": [
    "import torchvision\n",
    "import torch\n",
    "import torch.nn as nn\n",
    "import torch.nn.functional as F\n",
    "from PIL import Image"
   ]
  },
  {
   "cell_type": "code",
   "execution_count": 3,
   "metadata": {},
   "outputs": [],
   "source": [
    "# 准备数据集\n",
    "train_set = torchvision.datasets.MNIST(root='./data_dir', train=True, transform=torchvision.transforms.ToTensor(), download=True)\n",
    "test_set = torchvision.datasets.MNIST(root='./data_dir', train=False, transform=torchvision.transforms.ToTensor(), download=True)"
   ]
  },
  {
   "cell_type": "code",
   "execution_count": 4,
   "metadata": {},
   "outputs": [
    {
     "name": "stdout",
     "output_type": "stream",
     "text": [
      "训练集图片数量 60000\n",
      "测试集图片数量 10000\n"
     ]
    }
   ],
   "source": [
    "# 查看数据集的相关信息\n",
    "print('训练集图片数量', train_set.__len__())\n",
    "print('测试集图片数量', test_set.__len__())"
   ]
  },
  {
   "cell_type": "code",
   "execution_count": 12,
   "metadata": {},
   "outputs": [
    {
     "name": "stdout",
     "output_type": "stream",
     "text": [
      "torch.Size([1, 28, 28]) 5\n"
     ]
    }
   ],
   "source": [
    "img, label = train_set[0]\n",
    "print(img.shape, label)"
   ]
  },
  {
   "cell_type": "code",
   "execution_count": 13,
   "metadata": {},
   "outputs": [],
   "source": [
    "to_pil = torchvision.transforms.ToPILImage()\n",
    "to_pil(img).show()"
   ]
  },
  {
   "cell_type": "code",
   "execution_count": null,
   "metadata": {},
   "outputs": [],
   "source": [
    "from torch.utils.data import DataLoader\n",
    "batch_size = 64\n",
    "train_dataloader = DataLoader(dataset=train_set, batch_size=batch_size, shuffle=True, drop_last=True)\n",
    "test_dataloader = DataLoader(dataset=test_set, batch_size=batch_size, shuffle=False, drop_last=False)"
   ]
  },
  {
   "cell_type": "code",
   "execution_count": null,
   "metadata": {},
   "outputs": [],
   "source": [
    "for img, label in train_dataloader:\n",
    "    print(img.shape, label.shape)\n",
    "    break"
   ]
  },
  {
   "cell_type": "code",
   "execution_count": null,
   "metadata": {},
   "outputs": [],
   "source": [
    "class MNISTNet(nn.Module):\n",
    "    def __init__(self):\n",
    "        super().__init__()\n",
    "        self.fc = nn.Linear(28 * 28, 10)  # 输入是1 * 28 * 28，设置为in_features；一共有10类，因此out_features=10\n",
    "    \n",
    "    def forward(self, x: torch.Tensor):\n",
    "        x = x.view(x.shape[0], -1)  # 将x.shape从[N, 1, 28, 28]变换为[N, 1 * 28 * 28]\n",
    "        return self.fc(x)"
   ]
  },
  {
   "cell_type": "code",
   "execution_count": 10,
   "metadata": {},
   "outputs": [
    {
     "name": "stdout",
     "output_type": "stream",
     "text": [
      "input tensor([[0.2974, 0.2890, 0.2819, 0.1317]])\n",
      "target tensor([1])\n",
      "loss tensor(1.3496)\n",
      "手动计算的交叉熵 tensor([[1.3496]])\n"
     ]
    }
   ],
   "source": [
    "input = F.softmax(torch.rand(size=[1, 4]), dim=1)\n",
    "print('input', input)\n",
    "target = torch.randint(low=0, high=4, size=[1])\n",
    "print('target', target)\n",
    "loss = F.cross_entropy(input, target)\n",
    "print('loss', loss)\n",
    "# 手动计算交叉熵\n",
    "_loss = - torch.log(torch.exp(input[:, target].float()) / torch.sum(torch.exp(input)))\n",
    "print('手动计算的交叉熵', _loss)"
   ]
  },
  {
   "cell_type": "code",
   "execution_count": null,
   "metadata": {},
   "outputs": [],
   "source": [
    "# 运行的设备，'cpu'或'cuda:0'、'cuda:1'等。'cuda:0'表示0号显卡\n",
    "device = 'cuda:0'\n",
    "# 新建网络。网络默认是在CPU上\n",
    "net = MNISTNet()\n",
    "# 将网络移动到device上。注意，nn.Module的to函数是一个原地操作，也就是会将调用者移动到device上\n",
    "net.to(device)\n",
    "# 使用SGD优化器；优化的参数是net.parameters()，也就是net的所有可训练参数；学习率1e-3\n",
    "optimizer = torch.optim.SGD(net.parameters(), lr=1e-3)\n",
    "# 训练max_epoch轮，也就是遍历这么多次数据集\n",
    "max_epoch = 10\n",
    "# 总的迭代次数\n",
    "iterations = 0"
   ]
  },
  {
   "cell_type": "code",
   "execution_count": null,
   "metadata": {},
   "outputs": [],
   "source": []
  }
 ],
 "metadata": {
  "kernelspec": {
   "display_name": "Python 3",
   "language": "python",
   "name": "python3"
  },
  "language_info": {
   "codemirror_mode": {
    "name": "ipython",
    "version": 3
   },
   "file_extension": ".py",
   "mimetype": "text/x-python",
   "name": "python",
   "nbconvert_exporter": "python",
   "pygments_lexer": "ipython3",
   "version": "3.8.3"
  }
 },
 "nbformat": 4,
 "nbformat_minor": 4
}
