{
 "cells": [
  {
   "cell_type": "code",
   "execution_count": 1,
   "metadata": {},
   "outputs": [
    {
     "name": "stdout",
     "output_type": "stream",
     "text": [
      "tensor([[0.9485],\n",
      "        [0.2932],\n",
      "        [0.6854],\n",
      "        [0.5891],\n",
      "        [0.7262],\n",
      "        [0.2866],\n",
      "        [0.3368],\n",
      "        [0.5420],\n",
      "        [0.7176]])\n"
     ]
    }
   ],
   "source": [
    "import torch\n",
    "import numpy as np\n",
    "from matplotlib import pyplot as plt\n",
    "from spikingjelly.clock_driven import encoding\n",
    "\n",
    "x = torch.rand(9,1)\n",
    "print(x)"
   ]
  },
  {
   "cell_type": "code",
   "execution_count": 2,
   "metadata": {},
   "outputs": [],
   "source": [
    "encoder = encoding.PoissonEncoder()\n",
    "coding_x = [encoder(x).float() for i in range(10)]\n",
    "coding_x = torch.stack(coding_x).squeeze().numpy()"
   ]
  },
  {
   "cell_type": "code",
   "execution_count": 3,
   "metadata": {},
   "outputs": [
    {
     "data": {
      "image/png": "[encoded data removed]",
      "text/plain": [
       "<Figure size 432x288 with 1 Axes>"
      ]
     },
     "metadata": {
      "needs_background": "light"
     },
     "output_type": "display_data"
    },
    {
     "name": "stdout",
     "output_type": "stream",
     "text": [
      "x8=0.717643\n",
      "x7=0.542023\n",
      "x6=0.336847\n",
      "x5=0.286580\n",
      "x4=0.726228\n",
      "x3=0.589064\n",
      "x2=0.685430\n",
      "x1=0.293195\n",
      "x0=0.948525\n"
     ]
    }
   ],
   "source": [
    "scatter_x = []\n",
    "scatter_y = []\n",
    "for i in range(9):\n",
    "    for t in range(10):\n",
    "        if coding_x[t,i]!=0:\n",
    "            plt.vlines(t, 9-i, 9-i+.5, linestyles =\"solid\", colors =\"r\") \n",
    "plt.ylim(0,9)\n",
    "plt.show()\n",
    "for i in range(9):\n",
    "    print('x%d=%f'%(8-i,x[8-i]))"
   ]
  },
  {
   "cell_type": "code",
   "execution_count": null,
   "metadata": {},
   "outputs": [],
   "source": []
  },
  {
   "cell_type": "code",
   "execution_count": null,
   "metadata": {},
   "outputs": [],
   "source": []
  }
 ],
 "metadata": {
  "kernelspec": {
   "display_name": "Python 3",
   "language": "python",
   "name": "python3"
  },
  "language_info": {
   "codemirror_mode": {
    "name": "ipython",
    "version": 3
   },
   "file_extension": ".py",
   "mimetype": "text/x-python",
   "name": "python",
   "nbconvert_exporter": "python",
   "pygments_lexer": "ipython3",
   "version": "3.8.3"
  }
 },
 "nbformat": 4,
 "nbformat_minor": 4
}
