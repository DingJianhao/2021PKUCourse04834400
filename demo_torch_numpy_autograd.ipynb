{
 "cells": [
  {
   "cell_type": "code",
   "execution_count": 4,
   "metadata": {},
   "outputs": [
    {
     "name": "stdout",
     "output_type": "stream",
     "text": [
      "[[0.28870136]\n",
      " [0.9540892 ]\n",
      " [0.01625154]\n",
      " [0.24450752]\n",
      " [0.99798633]]\n",
      "tensor([[0.1408],\n",
      "        [0.4722],\n",
      "        [0.9005],\n",
      "        [0.3118],\n",
      "        [0.0018]])\n",
      "[[[0.64504874 0.12055321 0.12799734]\n",
      "  [0.98072277 0.68286678 0.38098941]]\n",
      "\n",
      " [[0.60266069 0.8263908  0.8004847 ]\n",
      "  [0.61803058 0.89462345 0.30737811]]\n",
      "\n",
      " [[0.53239556 0.97960348 0.97594345]\n",
      "  [0.96280887 0.45594052 0.57929977]]\n",
      "\n",
      " [[0.14327942 0.2960228  0.03794772]\n",
      "  [0.13646464 0.05326727 0.03354095]]\n",
      "\n",
      " [[0.0396288  0.61783765 0.13560632]\n",
      "  [0.68368101 0.41679801 0.78873353]]]\n",
      "tensor([[[0.6475, 0.7817, 0.2720],\n",
      "         [0.8573, 0.8552, 0.5179]],\n",
      "\n",
      "        [[0.8207, 0.8658, 0.5993],\n",
      "         [0.6501, 0.9880, 0.2267]],\n",
      "\n",
      "        [[0.5119, 0.9402, 0.1005],\n",
      "         [0.6301, 0.7569, 0.8322]],\n",
      "\n",
      "        [[0.3715, 0.9068, 0.9564],\n",
      "         [0.0435, 0.4144, 0.5102]],\n",
      "\n",
      "        [[0.4296, 0.6056, 0.9866],\n",
      "         [0.6918, 0.3146, 0.8517]]])\n"
     ]
    }
   ],
   "source": [
    "import numpy as np\n",
    "import torch\n",
    "\n",
    "# random variable, 5 rows, 1 lines (sampled from uniform distribution)\n",
    "print(np.random.rand(5,1))\n",
    "print(torch.rand(5,1))\n",
    "\n",
    "# tensor, size=(5,2,3)\n",
    "\n",
    "# what is tensor?\n",
    "# An nth-rank tensor in m-dimensional space is a mathematical \n",
    "# object that has n indices and m^n components and obeys certain \n",
    "# transformation rules. Each index of a tensor ranges over the \n",
    "# number of dimensions of space.\n",
    "\n",
    "print(np.random.rand(5,2,3))\n",
    "print(torch.rand(5,2,3))"
   ]
  },
  {
   "cell_type": "code",
   "execution_count": 21,
   "metadata": {},
   "outputs": [
    {
     "name": "stdout",
     "output_type": "stream",
     "text": [
      "[[1. 1. 1. 1. 1. 1. 1. 1. 1. 1. 1. 1. 1. 1. 1.]]\n",
      "[2. 2. 2. 2. 2.]\n"
     ]
    }
   ],
   "source": [
    "# calucate y = 2 * x1 + x2^2 - x3 in numpy\n",
    "x = np.ones((1,15))\n",
    "print(x)\n",
    "x1 = x[0,:5]\n",
    "x2 = x[0,5:10]\n",
    "x3 = x[0,10:15]\n",
    "y = 2 * x1 + x2 ** 2 - x3\n",
    "print(y)"
   ]
  },
  {
   "cell_type": "code",
   "execution_count": 28,
   "metadata": {},
   "outputs": [
    {
     "name": "stdout",
     "output_type": "stream",
     "text": [
      "tensor([[1., 1., 1., 1., 1., 1., 1., 1., 1., 1., 1., 1., 1., 1., 1.]],\n",
      "       requires_grad=True)\n",
      "tensor([5., 5., 5., 5., 5.], grad_fn=<SubBackward0>)\n",
      "tensor([[ 5.,  5.,  5.,  5.,  5.,  2.,  2.,  2.,  2.,  2., -1., -1., -1., -1.,\n",
      "         -1.]])\n"
     ]
    }
   ],
   "source": [
    "# calucate y = 5 * x1 + x2^2 - x3 in pytorch\n",
    "x = torch.ones(1,15)\n",
    "x.requires_grad = True\n",
    "print(x)\n",
    "x1 = x[0,:5]\n",
    "x2 = x[0,5:10]\n",
    "x3 = x[0,10:15]\n",
    "y = 5 * x[0,:5] + x[0,5:10] ** 2 - x[0,10:15]\n",
    "print(y)\n",
    "s = torch.sum(y)\n",
    "s.backward()\n",
    "print(x.grad.data)"
   ]
  },
  {
   "cell_type": "code",
   "execution_count": null,
   "metadata": {},
   "outputs": [],
   "source": []
  }
 ],
 "metadata": {
  "kernelspec": {
   "display_name": "Python 3",
   "language": "python",
   "name": "python3"
  },
  "language_info": {
   "codemirror_mode": {
    "name": "ipython",
    "version": 3
   },
   "file_extension": ".py",
   "mimetype": "text/x-python",
   "name": "python",
   "nbconvert_exporter": "python",
   "pygments_lexer": "ipython3",
   "version": "3.8.3"
  }
 },
 "nbformat": 4,
 "nbformat_minor": 4
}
